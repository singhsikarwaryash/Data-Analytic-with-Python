{
 "cells": [
  {
   "cell_type": "code",
   "execution_count": 26,
   "metadata": {},
   "outputs": [],
   "source": [
    "import pandas as pd\n",
    "import numpy as np"
   ]
  },
  {
   "cell_type": "code",
   "execution_count": 27,
   "metadata": {},
   "outputs": [
    {
     "name": "stdout",
     "output_type": "stream",
     "text": [
      "    S.No.  MTE (25)  Mini Project (25)  Total (50)  ETE (50)  Total\n",
      "0       1      5.00                 20       25.00      12.0  37.00\n",
      "1       2     11.05                 20       31.05      26.0  57.05\n",
      "2       3      8.10                 20       28.10      14.0  42.10\n",
      "3       4      6.00                 10       16.00      13.0  29.00\n",
      "4       5     11.35                 20       31.35      17.0  48.35\n",
      "..    ...       ...                ...         ...       ...    ...\n",
      "74     75     12.05                 10       22.05      20.0  42.05\n",
      "75     76     12.25                 10       22.25      28.0  50.25\n",
      "76     77      1.75                 10       11.75       NaN   0.00\n",
      "77     78      3.00                 10       13.00       NaN   0.00\n",
      "78     79      5.80                 10       15.80      12.0  27.80\n",
      "\n",
      "[79 rows x 6 columns]\n"
     ]
    }
   ],
   "source": [
    "# To import Data file in Jupyter \n",
    "df = pd.read_excel(r'F:/Data Analytics/IBM-313 Marks.xlsx') \n",
    "print(df)"
   ]
  },
  {
   "cell_type": "code",
   "execution_count": 28,
   "metadata": {},
   "outputs": [
    {
     "name": "stdout",
     "output_type": "stream",
     "text": [
      "    S.No.  MTE (25)  Mini Project (25)  Total (50)  ETE (50)  Total\n",
      "0       1      5.00                 20       25.00      12.0  37.00\n",
      "1       2     11.05                 20       31.05      26.0  57.05\n",
      "2       3      8.10                 20       28.10      14.0  42.10\n",
      "3       4      6.00                 10       16.00      13.0  29.00\n",
      "4       5     11.35                 20       31.35      17.0  48.35\n",
      "..    ...       ...                ...         ...       ...    ...\n",
      "74     75     12.05                 10       22.05      20.0  42.05\n",
      "75     76     12.25                 10       22.25      28.0  50.25\n",
      "76     77      1.75                 10       11.75       NaN   0.00\n",
      "77     78      3.00                 10       13.00       NaN   0.00\n",
      "78     79      5.80                 10       15.80      12.0  27.80\n",
      "\n",
      "[79 rows x 6 columns]\n"
     ]
    }
   ],
   "source": [
    "# Another Method to Import data file in Jupyter\n",
    "path = \"F:/Data Analytics/IBM-313 Marks.xlsx\"\n",
    "table = pd.read_excel(path)\n",
    "print(table)"
   ]
  },
  {
   "cell_type": "code",
   "execution_count": 29,
   "metadata": {},
   "outputs": [
    {
     "name": "stdout",
     "output_type": "stream",
     "text": [
      "46.90632911392405\n"
     ]
    }
   ],
   "source": [
    "# TO calculate Mean of Total Marks field  \n",
    "x= df['Total']\n",
    "print(np.mean(x))"
   ]
  },
  {
   "cell_type": "code",
   "execution_count": 30,
   "metadata": {},
   "outputs": [
    {
     "name": "stdout",
     "output_type": "stream",
     "text": [
      "46.90632911392405\n"
     ]
    }
   ],
   "source": [
    "# To calculate Mean of Total marks field\n",
    "x = table['Total']\n",
    "print(np.mean(x))\n"
   ]
  },
  {
   "cell_type": "code",
   "execution_count": 31,
   "metadata": {},
   "outputs": [
    {
     "data": {
      "text/plain": [
       "45.0"
      ]
     },
     "execution_count": 31,
     "metadata": {},
     "output_type": "execute_result"
    }
   ],
   "source": [
    "# To calculate Median \n",
    "np.median(x)"
   ]
  },
  {
   "cell_type": "code",
   "execution_count": 35,
   "metadata": {},
   "outputs": [
    {
     "name": "stdout",
     "output_type": "stream",
     "text": [
      "ModeResult(mode=array([0.]), count=array([2]))\n"
     ]
    }
   ],
   "source": [
    "# To Calculate Mode \n",
    "import scipy\n",
    "from scipy import stats\n",
    "stats.mode(x)\n",
    "print(stats.mode(x))"
   ]
  },
  {
   "cell_type": "code",
   "execution_count": 36,
   "metadata": {},
   "outputs": [
    {
     "name": "stdout",
     "output_type": "stream",
     "text": [
      "3.0\n"
     ]
    }
   ],
   "source": [
    "# To calculate Percentile \n",
    "a = np.array([1,2,3,4,5])\n",
    "p = np.percentile(a, 50) # return 50th percentile e.g median\n",
    "print (p)"
   ]
  },
  {
   "cell_type": "code",
   "execution_count": 40,
   "metadata": {},
   "outputs": [
    {
     "name": "stdout",
     "output_type": "stream",
     "text": [
      "['Ram', 65, 2.5]\n",
      "Ram\n",
      "65\n",
      "2.5\n"
     ]
    }
   ],
   "source": [
    "# Example of For Loop\n",
    "k = ['Ram', 65, 2.5]\n",
    "print(k)\n",
    "# Print in For Loop\n",
    "for i in k:\n",
    "    print(i)"
   ]
  },
  {
   "cell_type": "code",
   "execution_count": 41,
   "metadata": {},
   "outputs": [
    {
     "name": "stdout",
     "output_type": "stream",
     "text": [
      "10\n",
      "12\n",
      "14\n",
      "16\n",
      "18\n"
     ]
    }
   ],
   "source": [
    "# Range \n",
    "for i in range(10, 20, 2): print(i)"
   ]
  },
  {
   "cell_type": "code",
   "execution_count": 42,
   "metadata": {},
   "outputs": [
    {
     "name": "stdout",
     "output_type": "stream",
     "text": [
      "10,12,14,16,18,"
     ]
    }
   ],
   "source": [
    "# Range in 1 line\n",
    "for i in range(10, 20, 2): print(i, end=',')"
   ]
  },
  {
   "cell_type": "code",
   "execution_count": 43,
   "metadata": {},
   "outputs": [
    {
     "name": "stdout",
     "output_type": "stream",
     "text": [
      "Hi\n",
      "Good Evening\n"
     ]
    }
   ],
   "source": [
    "# Function in python\n",
    "def greet():\n",
    "    print(\"Hi\")\n",
    "    print(\"Good Evening\")\n",
    "greet()"
   ]
  },
  {
   "cell_type": "code",
   "execution_count": 44,
   "metadata": {},
   "outputs": [
    {
     "name": "stdout",
     "output_type": "stream",
     "text": [
      "10\n"
     ]
    }
   ],
   "source": [
    "def add(a,b):\n",
    "    c = a + b\n",
    "    print(c)\n",
    "add(6,4)"
   ]
  },
  {
   "cell_type": "code",
   "execution_count": 45,
   "metadata": {},
   "outputs": [
    {
     "data": {
      "text/plain": [
       "(1, 463)"
      ]
     },
     "execution_count": 45,
     "metadata": {},
     "output_type": "execute_result"
    }
   ],
   "source": [
    "# To Find  minimum and maximum value \n",
    "data = [1, 3 , 4 , 463, 2, 3 , 6, 8, 9 , 4, 254, 6, 72]\n",
    "min(data), max(data)"
   ]
  },
  {
   "cell_type": "code",
   "execution_count": 47,
   "metadata": {},
   "outputs": [
    {
     "data": {
      "text/plain": [
       "(1, 463)"
      ]
     },
     "execution_count": 47,
     "metadata": {},
     "output_type": "execute_result"
    }
   ],
   "source": [
    "data = [1, 3 , 4 , 463, 2, 3 , 6, 8, 9 , 4, 254, 6, 72]\n",
    "def min_and_max(data):\n",
    "    min_val = min(data)\n",
    "    max_val = max(data)\n",
    "    return (min_val,max_val)\n",
    "min_and_max(data)"
   ]
  },
  {
   "cell_type": "code",
   "execution_count": 50,
   "metadata": {},
   "outputs": [
    {
     "data": {
      "text/plain": [
       "-462"
      ]
     },
     "execution_count": 50,
     "metadata": {},
     "output_type": "execute_result"
    }
   ],
   "source": [
    "# Range \n",
    "def rangef(data):\n",
    "    min_val = min(data)\n",
    "    max_val = max(data)\n",
    "    return (min_val - max_val)\n",
    "rangef(data)"
   ]
  },
  {
   "cell_type": "code",
   "execution_count": 51,
   "metadata": {},
   "outputs": [
    {
     "name": "stdout",
     "output_type": "stream",
     "text": [
      "2.0\n"
     ]
    }
   ],
   "source": [
    "# Quartile\n",
    "a = np.array([1, 2, 3, 4, 5])\n",
    "q1 = np.percentile(a, 25) # return 25th percentile\n",
    "print(q1)"
   ]
  },
  {
   "cell_type": "code",
   "execution_count": 52,
   "metadata": {},
   "outputs": [
    {
     "name": "stdout",
     "output_type": "stream",
     "text": [
      "3.0\n"
     ]
    }
   ],
   "source": [
    "a = np.array([1, 2, 3, 4, 5])\n",
    "q2 = np.percentile(a, 50) # return 50th percentile\n",
    "print(q2)"
   ]
  },
  {
   "cell_type": "code",
   "execution_count": 53,
   "metadata": {},
   "outputs": [
    {
     "name": "stdout",
     "output_type": "stream",
     "text": [
      "4.0\n"
     ]
    }
   ],
   "source": [
    "a = np.array([1, 2, 3, 4, 5])\n",
    "q3 = np.percentile(a, 75) # return 75th percentile\n",
    "print(q3)"
   ]
  },
  {
   "cell_type": "code",
   "execution_count": 54,
   "metadata": {},
   "outputs": [
    {
     "data": {
      "text/plain": [
       "2.0"
      ]
     },
     "execution_count": 54,
     "metadata": {},
     "output_type": "execute_result"
    }
   ],
   "source": [
    "#  Inter Quartile Range\n",
    "IQ = q3 - q1\n",
    "IQ"
   ]
  },
  {
   "cell_type": "code",
   "execution_count": 55,
   "metadata": {},
   "outputs": [
    {
     "data": {
      "text/plain": [
       "262.7814789296587"
      ]
     },
     "execution_count": 55,
     "metadata": {},
     "output_type": "execute_result"
    }
   ],
   "source": [
    "# Variance\n",
    "np.var(x)"
   ]
  },
  {
   "cell_type": "code",
   "execution_count": 56,
   "metadata": {},
   "outputs": [
    {
     "data": {
      "text/plain": [
       "16.210536046955966"
      ]
     },
     "execution_count": 56,
     "metadata": {},
     "output_type": "execute_result"
    }
   ],
   "source": [
    "# Popluation Standad Deviation\n",
    "import statistics\n",
    "statistics.pstdev(x)"
   ]
  },
  {
   "cell_type": "code",
   "execution_count": 57,
   "metadata": {},
   "outputs": [
    {
     "data": {
      "text/plain": [
       "16.31411880088133"
      ]
     },
     "execution_count": 57,
     "metadata": {},
     "output_type": "execute_result"
    }
   ],
   "source": [
    "# Sample Standard Deviation\n",
    "statistics.stdev(x)"
   ]
  },
  {
   "cell_type": "code",
   "execution_count": 58,
   "metadata": {},
   "outputs": [
    {
     "data": {
      "text/plain": [
       "0.10226407464884266"
      ]
     },
     "execution_count": 58,
     "metadata": {},
     "output_type": "execute_result"
    }
   ],
   "source": [
    "from scipy.stats import skew\n",
    "skew(x)"
   ]
  },
  {
   "cell_type": "code",
   "execution_count": 59,
   "metadata": {},
   "outputs": [
    {
     "data": {
      "image/png": "[encoded data removed]",
      "text/plain": [
       "<Figure size 432x288 with 1 Axes>"
      ]
     },
     "metadata": {
      "needs_background": "light"
     },
     "output_type": "display_data"
    }
   ],
   "source": [
    "# Box Plot\n",
    "from matplotlib import pyplot as plt\n",
    "plt.boxplot(x, sym='+')\n",
    "plt.show()"
   ]
  },
  {
   "cell_type": "code",
   "execution_count": null,
   "metadata": {},
   "outputs": [],
   "source": []
  }
 ],
 "metadata": {
  "interpreter": {
   "hash": "659184eb9df99f42e4b35c84a1f04c4e3c1fe1fe4387f0e0e8446adc668465aa"
  },
  "kernelspec": {
   "display_name": "Python 3.8.10 64-bit",
   "language": "python",
   "name": "python3"
  },
  "language_info": {
   "codemirror_mode": {
    "name": "ipython",
    "version": 3
   },
   "file_extension": ".py",
   "mimetype": "text/x-python",
   "name": "python",
   "nbconvert_exporter": "python",
   "pygments_lexer": "ipython3",
   "version": "3.8.10"
  },
  "orig_nbformat": 4
 },
 "nbformat": 4,
 "nbformat_minor": 2
}
